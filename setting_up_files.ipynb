{
 "cells": [
  {
   "cell_type": "code",
   "execution_count": 2,
   "id": "140a0e24-acfa-4073-aea5-b1e079172a80",
   "metadata": {
    "tags": []
   },
   "outputs": [],
   "source": [
    "import des_functions as des\n",
    "import astropy.io.fits as fits \n",
    "import numpy as np\n",
    "import glob\n",
    "from more_itertools import locate"
   ]
  },
  {
   "cell_type": "code",
   "execution_count": 3,
   "id": "4f603949-b906-4ec0-9ac2-7b1d5b507d3b",
   "metadata": {},
   "outputs": [],
   "source": [
    "data_dir = '/home/b7009348/WGL_project/DES-data/'\n",
    "im3file = 'y1_im3shape_shapes.fits'\n",
    "mcalfile = 'y1_metacalibration_shapes.fits'\n",
    "lensfile = 'DES_Y1A1_3x2pt_redMaGiC_zerr_CATALOG.fits'"
   ]
  },
  {
   "cell_type": "markdown",
   "id": "49832d93-8981-4a65-bd97-c127abce477b",
   "metadata": {},
   "source": [
    "### Create matched catalogues"
   ]
  },
  {
   "cell_type": "code",
   "execution_count": 8,
   "id": "dffa222c-12cd-452b-bf7b-86ecb641d14c",
   "metadata": {
    "collapsed": true,
    "jupyter": {
     "outputs_hidden": true
    },
    "tags": []
   },
   "outputs": [
    {
     "name": "stdout",
     "output_type": "stream",
     "text": [
      "Opening file...\n",
      "Locating flags...\n",
      "Flags located, slicing data...\n",
      "Data sliced, writing to new file...\n",
      "Runtime: 408.955\n"
     ]
    }
   ],
   "source": [
    "des.cut_flags(im3file, method='im3')"
   ]
  },
  {
   "cell_type": "code",
   "execution_count": 9,
   "id": "b9b6a383-1019-4669-9753-2786fef56cd4",
   "metadata": {
    "collapsed": true,
    "jupyter": {
     "outputs_hidden": true
    },
    "tags": []
   },
   "outputs": [
    {
     "name": "stdout",
     "output_type": "stream",
     "text": [
      "Opening file...\n",
      "Locating flags...\n",
      "Flags located, slicing data...\n",
      "Data sliced, writing to new file...\n",
      "Runtime: 596.622\n"
     ]
    }
   ],
   "source": [
    "des.cut_flags(mcalfile, method='mcal')"
   ]
  },
  {
   "cell_type": "code",
   "execution_count": 7,
   "id": "9f756543-a3e2-44bd-a730-0c82bb64e59e",
   "metadata": {},
   "outputs": [],
   "source": [
    "im3cut = 'y1_im3_flags=0.fits'\n",
    "mcalcut = 'y1_mcal_flags=0.fits'\n",
    "zfile = 'mcal_BPZ_(binning).fits'"
   ]
  },
  {
   "cell_type": "code",
   "execution_count": 5,
   "id": "81b21d55-b5e2-4cf4-9c53-2e7a4e05311a",
   "metadata": {},
   "outputs": [
    {
     "name": "stdout",
     "output_type": "stream",
     "text": [
      "Opening files...\n",
      "Locating NaNs...\n",
      "Slicing NaNs...\n",
      "Matching sources...\n",
      "Finding ID intersections between catalogues...\n",
      "17865244 sources matched\n",
      "Slicing im3 data...\n",
      "Saving im3 data to new file...\n",
      "Slicing mcal data...\n",
      "Saving mcal data to new file...\n",
      "Runtime: 571.635\n"
     ]
    }
   ],
   "source": [
    "des.match_catalogues(im3cut, mcalcut, zfile)"
   ]
  },
  {
   "cell_type": "markdown",
   "id": "263f5615-8170-4a97-8a87-270453fbe9df",
   "metadata": {},
   "source": [
    "### Cut lens file to redshift bins"
   ]
  },
  {
   "cell_type": "code",
   "execution_count": 16,
   "id": "4381b38c-391e-4806-9788-e5ecfe2ded11",
   "metadata": {
    "collapsed": true,
    "jupyter": {
     "outputs_hidden": true
    },
    "tags": []
   },
   "outputs": [
    {
     "name": "stdout",
     "output_type": "stream",
     "text": [
      "Opening files...\n",
      "Locating lenses in range 0.15 - 0.3...\n",
      "Lenses in range found, slicing data...\n",
      "Data sliced, writing to new file...\n",
      "Runtime: 0.323036\n",
      "Opening files...\n",
      "Locating lenses in range 0.3 - 0.45...\n",
      "Lenses in range found, slicing data...\n",
      "Data sliced, writing to new file...\n",
      "Runtime: 0.223156\n",
      "Opening files...\n",
      "Locating lenses in range 0.45 - 0.6...\n",
      "Lenses in range found, slicing data...\n",
      "Data sliced, writing to new file...\n",
      "Runtime: 0.254078\n",
      "Opening files...\n",
      "Locating lenses in range 0.6 - 0.75...\n",
      "Lenses in range found, slicing data...\n",
      "Data sliced, writing to new file...\n",
      "Runtime: 0.17903\n",
      "Opening files...\n",
      "Locating lenses in range 0.75 - 0.9...\n",
      "Lenses in range found, slicing data...\n",
      "Data sliced, writing to new file...\n",
      "Runtime: 0.120048\n"
     ]
    }
   ],
   "source": [
    "zmins = [0.15, 0.3, 0.45, 0.6, 0.75]\n",
    "zmaxes = [0.3, 0.45, 0.6, 0.75, 0.9]\n",
    "\n",
    "for i in range(len(zmins)):\n",
    "    des.cut_lenses(lensfile, zmin=zmins[i], zmax=zmaxes[i])"
   ]
  },
  {
   "cell_type": "code",
   "execution_count": 5,
   "id": "ede4a184-fd48-4f06-b520-6df210ef6595",
   "metadata": {
    "tags": []
   },
   "outputs": [
    {
     "ename": "TypeError",
     "evalue": "_size_dispatcher() missing 1 required positional argument: 'a'",
     "output_type": "error",
     "traceback": [
      "\u001b[0;31m---------------------------------------------------------------------------\u001b[0m",
      "\u001b[0;31mTypeError\u001b[0m                                 Traceback (most recent call last)",
      "\u001b[0;32m<ipython-input-5-0711012a8e59>\u001b[0m in \u001b[0;36m<module>\u001b[0;34m\u001b[0m\n\u001b[1;32m     25\u001b[0m         \u001b[0my\u001b[0m\u001b[0;34m.\u001b[0m\u001b[0mappend\u001b[0m\u001b[0;34m(\u001b[0m\u001b[0mx\u001b[0m\u001b[0;34m[\u001b[0m\u001b[0mi\u001b[0m\u001b[0;34m]\u001b[0m\u001b[0;34m)\u001b[0m\u001b[0;34m\u001b[0m\u001b[0;34m\u001b[0m\u001b[0m\n\u001b[1;32m     26\u001b[0m \u001b[0;34m\u001b[0m\u001b[0m\n\u001b[0;32m---> 27\u001b[0;31m \u001b[0mprint\u001b[0m\u001b[0;34m(\u001b[0m\u001b[0mnp\u001b[0m\u001b[0;34m.\u001b[0m\u001b[0msize\u001b[0m\u001b[0;34m(\u001b[0m\u001b[0;34m)\u001b[0m\u001b[0;34m)\u001b[0m\u001b[0;34m\u001b[0m\u001b[0;34m\u001b[0m\u001b[0m\n\u001b[0m",
      "\u001b[0;32m<__array_function__ internals>\u001b[0m in \u001b[0;36msize\u001b[0;34m(*args, **kwargs)\u001b[0m\n",
      "\u001b[0;31mTypeError\u001b[0m: _size_dispatcher() missing 1 required positional argument: 'a'"
     ]
    }
   ],
   "source": [
    "with fits.open(data_dir+'gold_cut_y1_im3_shapes_matched_(nans).fits') as hdu:\n",
    "    data = hdu[1].data\n",
    "    im3_ID = data['coadd_objects_id']\n",
    "del data\n",
    "\n",
    "# load in z_mc for all sources\n",
    "with fits.open(data_dir+'mcal_BPZ_(binning).fits') as hdu:\n",
    "    data = hdu[1].data\n",
    "    im3_zmc = data['z_mc']\n",
    "    zmc_ID = data['coadd_objects_id']\n",
    "del data\n",
    "\n",
    "# match z_mc values to source IDs\n",
    "matches, zmc_indices, shape_indices = np.intersect1d(zmc_ID, im3_ID, return_indices=True)\n",
    "\n",
    "# slice z_mc values to only to those in matched catalogue\n",
    "im3_cut = im3_zmc[zmc_indices]\n",
    "\n",
    "del matches, zmc_indices, shape_indices, zmc_ID, im3_ID\n",
    "\n",
    "x = np.isnan(im3_cut)\n",
    "y = []\n",
    "for i in range(len(x)):\n",
    "    if x[i] == True:\n",
    "        y.append(x[i])\n",
    "    \n",
    "print(np.size())"
   ]
  },
  {
   "cell_type": "code",
   "execution_count": 6,
   "id": "54b2d112-8ad1-4b76-93ff-b312d06dd126",
   "metadata": {},
   "outputs": [
    {
     "name": "stdout",
     "output_type": "stream",
     "text": [
      "yikes\n"
     ]
    }
   ],
   "source": [
    "x = np.isnan(im3_cut)\n",
    "if x.any() == True:\n",
    "    print('yikes')"
   ]
  },
  {
   "cell_type": "code",
   "execution_count": 7,
   "id": "4c3d5e8e-47bb-40e7-ae91-30b08c0e90dc",
   "metadata": {},
   "outputs": [
    {
     "name": "stdout",
     "output_type": "stream",
     "text": [
      "17865244\n"
     ]
    }
   ],
   "source": [
    "print(np.size(im3_cut))"
   ]
  },
  {
   "cell_type": "code",
   "execution_count": 28,
   "id": "c7f5e041-e071-45e7-8eb2-985107f2c850",
   "metadata": {},
   "outputs": [
    {
     "name": "stdout",
     "output_type": "stream",
     "text": [
      "[0.57054426 0.68682418 0.54534949 0.58047495 0.3845813  0.77290494\n",
      " 0.67648208 0.43320593 0.7910586  0.29173101 0.63485931 0.6551489\n",
      " 0.62785127 0.44386425 0.57018634 0.58110151 0.56906392 0.09365372\n",
      " 0.42350288 0.38641842 0.28892036 0.73161776 0.59433493 1.01790242\n",
      " 0.69441394 0.57030637 0.34025371 0.55797283 0.77906071 2.10822018\n",
      " 0.79504588 0.79689796 0.20804606 0.20086831 0.3613483  0.15532033\n",
      " 0.59125006 0.18985658 0.42483064 0.50202849 0.47222988 0.75362123\n",
      " 0.70048697 0.32275801 0.55538035 0.69982425 0.3222205  0.34223948\n",
      " 0.53289972 0.6282572  0.5780427  0.88159896 0.91829414 0.79065519\n",
      " 0.55122689 0.51032127 1.85619327 0.16443794 0.73669616 0.44454861\n",
      " 0.3697183  1.18908265 0.10417111 0.30441146 0.20180837 0.22436716\n",
      " 0.55639066 0.57957825 0.52521115 0.59577409 0.51491974 0.76630074\n",
      " 0.12424476 0.24281978 0.86172354 0.73480898 0.45817866 0.43311511\n",
      " 0.19900989 0.54905832 0.5350536  0.77203373 0.40875619 0.40205463\n",
      " 0.6619122  0.86279038 0.70184616 0.25846367 0.56989483 0.39491523\n",
      " 0.4281364  0.4433293  0.62553256 0.23585989 0.62131945 0.72258447\n",
      " 0.60040485 0.8470009  1.64479141 0.24107071]\n"
     ]
    }
   ],
   "source": [
    "with fits.open(data_dir+'y1_im3_shapes_matched.fits') as hdu:\n",
    "    data = hdu[1].data\n",
    "    im3_ID = data['coadd_objects_id']\n",
    "del data\n",
    "\n",
    "# load in z_mc for all sources\n",
    "with fits.open(data_dir+'mof_BPZ_(stacking).fits') as hdu:\n",
    "    data = hdu[1].data\n",
    "    im3_zmc = data['z_mc']\n",
    "    zmc_ID = data['coadd_objects_id']\n",
    "del data\n",
    "\n",
    "# match z_mc values to source IDs\n",
    "matches, zmc_indices, shape_indices = np.intersect1d(zmc_ID, im3_ID, return_indices=True)\n",
    "\n",
    "# slice z_mc values to only to those in matched catalogue\n",
    "im3_zmc = im3_zmc[zmc_indices]\n",
    "\n",
    "print(im3_zmc[100:200])\n",
    "\n",
    "del matches, zmc_indices, shape_indices, zmc_ID, im3_ID"
   ]
  },
  {
   "cell_type": "code",
   "execution_count": 27,
   "id": "3ac48096-9796-4b6b-9b53-a10be97415dd",
   "metadata": {},
   "outputs": [
    {
     "name": "stdout",
     "output_type": "stream",
     "text": [
      "17865244\n",
      "50657\n"
     ]
    }
   ],
   "source": [
    "with fits.open(data_dir+'y1_im3_shapes_matched.fits') as hdu:\n",
    "    data1 = hdu[1].data\n",
    "    \n",
    "print(np.size(data))\n",
    "\n",
    "with fits.open(data_dir+'y1_mcal_shapes_matched_(nans).fits') as hdu:\n",
    "    data2 = hdu[1].data\n",
    "    \n",
    "print(np.size(data2)-np.size(data1))"
   ]
  },
  {
   "cell_type": "code",
   "execution_count": 8,
   "id": "a618af3f-97ef-479e-9fff-941a58ea29cb",
   "metadata": {},
   "outputs": [],
   "source": [
    "with fits.open(data_dir+zfile) as hdu:\n",
    "    data = hdu[1].data"
   ]
  },
  {
   "cell_type": "code",
   "execution_count": 9,
   "id": "0ba8e39f-e96a-4d6d-bfe0-8b7f87055db0",
   "metadata": {},
   "outputs": [
    {
     "name": "stdout",
     "output_type": "stream",
     "text": [
      "ColDefs(\n",
      "    name = 'template_id'; format = 'K'\n",
      "    name = 'coadd_objects_id'; format = 'K'\n",
      "    name = 'r11'; format = 'D'\n",
      "    name = 'r22'; format = 'D'\n",
      "    name = 'template_type'; format = 'D'\n",
      "    name = 'median_z'; format = 'D'\n",
      "    name = 'mean_z'; format = 'D'\n",
      "    name = 'minchi2'; format = 'D'\n",
      "    name = 'mode_z'; format = 'D'\n",
      "    name = 'z_sigma68'; format = 'D'\n",
      "    name = 'z_sigma'; format = 'D'\n",
      "    name = 'kl_post_prior'; format = 'D'\n",
      "    name = 'z_mc'; format = 'D'\n",
      ")\n"
     ]
    }
   ],
   "source": [
    "print(data.columns)"
   ]
  },
  {
   "cell_type": "markdown",
   "id": "16a91cb1-7041-4a33-83df-ea169b51b6bd",
   "metadata": {},
   "source": [
    "### Download gold catalogues"
   ]
  },
  {
   "cell_type": "code",
   "execution_count": null,
   "id": "ccb142f9-5c22-4e15-aaf0-444c6338d378",
   "metadata": {},
   "outputs": [],
   "source": [
    "#des.download_gold()"
   ]
  },
  {
   "cell_type": "code",
   "execution_count": 5,
   "id": "b2f51b9c-1c88-4707-adc8-a74063eb5007",
   "metadata": {
    "tags": []
   },
   "outputs": [
    {
     "name": "stdout",
     "output_type": "stream",
     "text": [
      "Opening files...\n",
      "Locating gold flags...\n",
      "Flags located, slicing data...\n",
      "Saving to new file...\n",
      "Runtime: 975.306\n"
     ]
    }
   ],
   "source": [
    "des.cut_gold(filename='y1_im3_shapes_matched_(nans).fits')"
   ]
  },
  {
   "cell_type": "code",
   "execution_count": 6,
   "id": "dd44e14a-bcba-4927-bbb5-9ae299375247",
   "metadata": {},
   "outputs": [
    {
     "name": "stdout",
     "output_type": "stream",
     "text": [
      "17865244 17865244\n"
     ]
    }
   ],
   "source": [
    "with fits.open(data_dir+'gold_cut_y1_im3_shapes_matched_(nans).fits') as hdu:\n",
    "    data1 = hdu[1].data\n",
    "    \n",
    "with fits.open(data_dir+'y1_im3_shapes_matched_(nans).fits') as hdu:\n",
    "    data2 = hdu[1].data\n",
    "    \n",
    "print(np.size(data1), np.size(data2))"
   ]
  }
 ],
 "metadata": {
  "kernelspec": {
   "display_name": "Python 3",
   "language": "python",
   "name": "python3"
  },
  "language_info": {
   "codemirror_mode": {
    "name": "ipython",
    "version": 3
   },
   "file_extension": ".py",
   "mimetype": "text/x-python",
   "name": "python",
   "nbconvert_exporter": "python",
   "pygments_lexer": "ipython3",
   "version": "3.8.0"
  }
 },
 "nbformat": 4,
 "nbformat_minor": 5
}
