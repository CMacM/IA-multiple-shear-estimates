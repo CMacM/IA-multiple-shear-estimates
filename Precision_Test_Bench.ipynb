{
 "cells": [
  {
   "cell_type": "code",
   "execution_count": 2,
   "id": "69520885-64cf-4d15-a596-5329b97a5312",
   "metadata": {},
   "outputs": [],
   "source": [
    "import astropy.io.fits as fits\n",
    "import des_functions\n",
    "import treecorr\n",
    "import numpy as np\n",
    "import matplotlib.pyplot as plt\n",
    "from more_itertools import locate\n",
    "import time\n",
    "import pyccl as ccl\n",
    "\n",
    "plt.rcParams['figure.facecolor'] = 'white'\n",
    "plt.rcParams['font.family'] = 'serif'\n",
    "plt.rcParams['font.serif'] = ['cmr10']\n",
    "plt.rcParams['mathtext.fontset'] ='cm'\n",
    "plt.rc('axes', unicode_minus=False)"
   ]
  },
  {
   "cell_type": "code",
   "execution_count": 3,
   "id": "575cf87e-c919-44c4-9f38-37ebc59d2dd0",
   "metadata": {},
   "outputs": [],
   "source": [
    "data_dir = '/home/b7009348/WGL_project/DES-data/'\n",
    "lens_file = data_dir+'DES_Y1A1_Lenses_z=0.3-0.45.fits'\n",
    "rand_file = data_dir+'DES_Y1A1_3x2pt_redMaGiC_RANDOMS.fits'\n",
    "im3_file = data_dir+'y1_im3_shapes_matched.fits'\n",
    "mcal_file = data_dir+'y1_mcal_shapes_matched.fits'\n",
    "z_file = data_dir+'mcal_BPZ_(binning).fits'"
   ]
  },
  {
   "cell_type": "code",
   "execution_count": 4,
   "id": "79c02a8a-05c0-46eb-b80e-06cd6b4eda17",
   "metadata": {},
   "outputs": [],
   "source": [
    "sep_bins = 25\n",
    "theta_min = 2.5\n",
    "theta_max = 250"
   ]
  },
  {
   "cell_type": "markdown",
   "id": "2b2f3d61-c233-40af-8678-9ed24fa04947",
   "metadata": {},
   "source": [
    "### No patches "
   ]
  },
  {
   "cell_type": "code",
   "execution_count": 5,
   "id": "7256423e-5ac5-47b3-a315-12bfa4a4e74f",
   "metadata": {},
   "outputs": [
    {
     "name": "stdout",
     "output_type": "stream",
     "text": [
      "Patchless catalogues created.\n"
     ]
    }
   ],
   "source": [
    "with fits.open(lens_file) as hdu:\n",
    "    data = hdu[1].data\n",
    "    ra_l = data['RA']\n",
    "    dec_l = data['DEC']\n",
    "    w_l = data['weight']\n",
    "\n",
    "lens_shot = treecorr.Catalog(ra=ra_l, dec=dec_l, w=w_l, ra_units='deg', dec_units='deg')\n",
    "\n",
    "del data, ra_l, dec_l, w_l\n",
    "\n",
    "with fits.open(rand_file) as hdu:\n",
    "    data = hdu[1].data\n",
    "    indexes = list(locate(data['z'], lambda x: 0.3 < x < 0.45))\n",
    "    ra_r = data['RA'][indexes]\n",
    "    dec_r = data['DEC'][indexes]\n",
    "    rand_z = data['z'][indexes]\n",
    "\n",
    "rand_shot = treecorr.Catalog(ra=ra_r, dec=dec_r, ra_units='deg', dec_units='deg')\n",
    "\n",
    "del data, indexes, ra_r, dec_r, rand_z\n",
    "\n",
    "with fits.open(mcal_file) as hdu:\n",
    "    data = hdu[1].data\n",
    "    ra_s = data['ra']\n",
    "    dec_s = data['dec']\n",
    "    e1 = data['e1']\n",
    "    e2 = data['e2']\n",
    "    R11 = data['R11']\n",
    "\n",
    "mcal_shot = treecorr.Catalog(ra=ra_s, dec=dec_s, ra_units='deg', dec_units='deg', g1=e1, g2=e2)\n",
    "\n",
    "Rsp = np.mean(R11)\n",
    "\n",
    "del data, ra_s, dec_s, e1, e2, R11\n",
    "\n",
    "print('Patchless catalogues created.')"
   ]
  },
  {
   "cell_type": "markdown",
   "id": "91bd0c6e-1032-4682-8785-b365cd1b6847",
   "metadata": {},
   "source": [
    "## Patches"
   ]
  },
  {
   "cell_type": "code",
   "execution_count": 6,
   "id": "0bbefad7-650d-46ff-a3ec-3e6a73cd5a99",
   "metadata": {},
   "outputs": [
    {
     "name": "stdout",
     "output_type": "stream",
     "text": [
      "Patched catalogues created.\n"
     ]
    }
   ],
   "source": [
    "with fits.open(lens_file) as hdu:\n",
    "    data = hdu[1].data\n",
    "    ra_l = data['RA']\n",
    "    dec_l = data['DEC']\n",
    "    w_l = data['weight']\n",
    "\n",
    "lens_patches = treecorr.Catalog(ra=ra_l, dec=dec_l, w=w_l, ra_units='deg', dec_units='deg', patch_centers=data_dir+'jackknife_patch_centers')\n",
    "\n",
    "del data, ra_l, dec_l, w_l\n",
    "\n",
    "with fits.open(rand_file) as hdu:\n",
    "    data = hdu[1].data\n",
    "    indexes = list(locate(data['z'], lambda x: 0.3 < x < 0.45))\n",
    "    ra_r = data['RA'][indexes]\n",
    "    dec_r = data['DEC'][indexes]\n",
    "    rand_z = data['z'][indexes]\n",
    "\n",
    "rand_patches = treecorr.Catalog(ra=ra_r, dec=dec_r, ra_units='deg', dec_units='deg', patch_centers=data_dir+'jackknife_patch_centers')\n",
    "\n",
    "del data, indexes, ra_r, dec_r, rand_z\n",
    "\n",
    "with fits.open(mcal_file) as hdu:\n",
    "    data = hdu[1].data\n",
    "    ra_s = data['ra']\n",
    "    dec_s = data['dec']\n",
    "    e1 = data['e1']\n",
    "    e2 = data['e2']\n",
    "    R11 = data['R11']\n",
    "\n",
    "mcal_patches = treecorr.Catalog(ra=ra_s, dec=dec_s, ra_units='deg', dec_units='deg', g1=e1, g2=e2, patch_centers=data_dir+'jackknife_patch_centers')\n",
    "\n",
    "del data, ra_s, dec_s, e1, e2, R11\n",
    "\n",
    "print('Patched catalogues created.')"
   ]
  },
  {
   "cell_type": "code",
   "execution_count": 12,
   "id": "74e0d12d-2af0-4804-987e-f3bb81a3fa97",
   "metadata": {},
   "outputs": [],
   "source": [
    "def precision_test(bin_slop, sep_bins):\n",
    "    \n",
    "    start = time.time()\n",
    "    \n",
    "    # preallocate output arrays\n",
    "    shot_gammat = np.zeros([sep_bins])\n",
    "    shot_theta = np.zeros([sep_bins])\n",
    "    \n",
    "    print('Starting patchless correlation...')\n",
    "    \n",
    "    # calculate tangential shear with lenses\n",
    "    ng = treecorr.NGCorrelation(nbins=sep_bins, min_sep=theta_min, max_sep=theta_max, sep_units='arcmin', verbose=1)\n",
    "    ng.process(lens_shot, mcal_shot)\n",
    "\n",
    "    # calculate tangential shear with randoms\n",
    "    rg = treecorr.NGCorrelation(nbins=sep_bins, min_sep=theta_min, max_sep=theta_max, sep_units='arcmin')\n",
    "    rg.process(rand_shot, mcal_shot)\n",
    "    \n",
    "    print(ng.bin_slop)\n",
    "\n",
    "    xi_l = ng.xi\n",
    "    xi_r = rg.xi\n",
    "\n",
    "    shot_gammat = 1.0/Rsp * (xi_l - xi_r)\n",
    "    shot_theta = np.exp(ng.meanlogr)\n",
    "\n",
    "    print(shot_gammat)\n",
    "\n",
    "    # preallocate output arrays\n",
    "    patches_gammat = np.zeros([sep_bins])\n",
    "    patches_theta = np.zeros([sep_bins])\n",
    "    \n",
    "    print('\\n Starting patched correlation...')\n",
    "\n",
    "    # calculate tangential shear with lenses\n",
    "    ng = treecorr.NGCorrelation(nbins=sep_bins, min_sep=theta_min, max_sep=theta_max, sep_units='arcmin', verbose=1)\n",
    "    ng.process(lens_patches, mcal_patches)\n",
    "\n",
    "    # calculate tangential shear with randoms\n",
    "    rg = treecorr.NGCorrelation(nbins=sep_bins, min_sep=theta_min, max_sep=theta_max, sep_units='arcmin')\n",
    "    rg.process(rand_patches, mcal_patches)\n",
    "    \n",
    "    print(ng.bin_slop)\n",
    "\n",
    "    xi_l = ng.xi\n",
    "    xi_r = rg.xi\n",
    "\n",
    "    patches_gammat = 1.0/Rsp * (xi_l - xi_r)\n",
    "    patches_theta = np.exp(ng.meanlogr)\n",
    "\n",
    "    print(patches_gammat)\n",
    "    \n",
    "    end = time.time()\n",
    "    runtime = end-start\n",
    "    print('\\n %f \\n' %runtime)\n",
    "    \n",
    "    return shot_gammat, patches_gammat"
   ]
  },
  {
   "cell_type": "code",
   "execution_count": 13,
   "id": "18178305-c369-4548-8027-40d02466b8c7",
   "metadata": {
    "tags": []
   },
   "outputs": [
    {
     "name": "stdout",
     "output_type": "stream",
     "text": [
      "Starting patchless correlation...\n",
      "0.4342944819032518\n",
      "[1.22343045e-03 1.08374556e-03 7.50357134e-04 7.14348122e-04\n",
      " 5.20163432e-04 3.43916069e-04 2.91516673e-04 2.39981298e-04\n",
      " 1.88691239e-04 1.72773452e-04 1.40410142e-04 1.13359805e-04\n",
      " 1.18959892e-04 7.54907090e-05 7.50158509e-05 6.99658536e-05\n",
      " 5.70959299e-05 4.54247436e-05 4.35179537e-05 4.19731572e-05]\n",
      "\n",
      " Starting patched correlation...\n",
      "0.4342944819032518\n",
      "[1.22850312e-03 1.08099893e-03 7.90436868e-04 6.62166370e-04\n",
      " 5.24727494e-04 3.87596783e-04 2.75520094e-04 2.30092429e-04\n",
      " 1.95619391e-04 1.68357967e-04 1.36384474e-04 1.16712450e-04\n",
      " 1.17757279e-04 8.40498908e-05 7.41308276e-05 6.92606510e-05\n",
      " 5.73138861e-05 4.53669400e-05 4.06265932e-05 4.57972790e-05]\n",
      "\n",
      " 70.845227 \n",
      "\n"
     ]
    }
   ],
   "source": [
    "bin_slops = None\n",
    "sep_bins = 20\n",
    "\n",
    "diff = np.zeros(sep_bins)\n",
    "\n",
    "shot, patch = precision_test(bin_slops, sep_bins)\n",
    "\n",
    "diff = abs(shot - patch)"
   ]
  },
  {
   "cell_type": "code",
   "execution_count": 62,
   "id": "759618b1-5784-4f47-a3ad-a679473c5b71",
   "metadata": {
    "tags": []
   },
   "outputs": [
    {
     "name": "stdout",
     "output_type": "stream",
     "text": [
      "[ 9.29763440e-04  1.61114279e-03  1.22570599e-03  2.73688425e-05\n",
      "  4.61675406e-04  1.72657064e-04  2.89879361e-04  2.65042566e-04\n",
      "  3.77362233e-04  4.04872186e-04  1.12426377e-04 -2.10569970e-05\n",
      "  1.56236244e-04  1.03068611e-04  8.73145235e-05  1.14253394e-04\n",
      "  1.32394978e-04  9.51642758e-05  1.27173415e-04  2.37452354e-05]\n",
      "[2.04266146e-05 1.03935710e-05 7.72876231e-06 1.05413091e-05\n",
      " 2.06916284e-05 4.57153756e-06 1.91762581e-05 1.89525142e-06\n",
      " 5.31492785e-06 8.11196373e-06 3.74487046e-06 3.25653270e-06\n",
      " 2.07821677e-06 7.49246037e-07 9.91837075e-07 1.76361276e-06\n",
      " 7.12647651e-07 1.21389930e-07 9.07849433e-07 5.66681287e-07]\n"
     ]
    }
   ],
   "source": [
    "real_values = np.load(data_dir+'ia_full_values.npz')\n",
    "print(real_values['IA'])\n",
    "print(diff)"
   ]
  },
  {
   "cell_type": "code",
   "execution_count": 58,
   "id": "264210c4-6420-48a7-bf4b-e6e6ec6b59f2",
   "metadata": {},
   "outputs": [
    {
     "name": "stdout",
     "output_type": "stream",
     "text": [
      "3779\n"
     ]
    }
   ],
   "source": [
    "import glob \n",
    "files  = glob.glob(data_dir+'gold_catalogues/*.fits')\n",
    "print(len(files))"
   ]
  }
 ],
 "metadata": {
  "kernelspec": {
   "display_name": "Python 3",
   "language": "python",
   "name": "python3"
  },
  "language_info": {
   "codemirror_mode": {
    "name": "ipython",
    "version": 3
   },
   "file_extension": ".py",
   "mimetype": "text/x-python",
   "name": "python",
   "nbconvert_exporter": "python",
   "pygments_lexer": "ipython3",
   "version": "3.8.0"
  }
 },
 "nbformat": 4,
 "nbformat_minor": 5
}
