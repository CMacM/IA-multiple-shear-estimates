{
 "cells": [
  {
   "cell_type": "markdown",
   "id": "24cfe5c8-3c96-4fa4-9316-c21f2589859e",
   "metadata": {},
   "source": [
    "## Verifying treecorr patch stochasiticity's effect on jackknife\n",
    "\n",
    "- Defining patches in catalogue affects resulting values due to different numerical realization\n",
    "- Stochasticity in patches has significant bearing on resulting tangential shear values of similar order to \n",
    "    signal magnitude \n",
    "- Tried adding patches into catalogues to see if it boosted SNR"
   ]
  },
  {
   "cell_type": "code",
   "execution_count": 1,
   "id": "aaa0bc68-c30d-44e6-ac15-ff91d395abd8",
   "metadata": {
    "tags": []
   },
   "outputs": [],
   "source": [
    "import numpy as np\n",
    "import treecorr\n",
    "import des_functions as des\n",
    "from more_itertools import locate\n",
    "import time\n",
    "import astropy.io.fits as fits \n",
    "import matplotlib.pyplot as plt\n",
    "\n",
    "plt.rcParams['figure.facecolor'] = 'white'\n",
    "plt.rcParams['font.family'] = 'serif'\n",
    "plt.rcParams['font.serif'] = ['cmr10']\n",
    "plt.rcParams['mathtext.fontset'] ='cm'\n",
    "data_dir = '/home/b7009348/WGL_project/DES-data/'"
   ]
  },
  {
   "cell_type": "code",
   "execution_count": 4,
   "id": "3cfc4a87-722f-4308-a4c3-fdfb572647f2",
   "metadata": {},
   "outputs": [
    {
     "name": "stdout",
     "output_type": "stream",
     "text": [
      "Patches saved, runtime=1.197099.\n"
     ]
    }
   ],
   "source": [
    "#des.create_patches(lens_file=lens_file, npatches=npatches)"
   ]
  },
  {
   "cell_type": "code",
   "execution_count": 2,
   "id": "07355c1e-06fb-4158-a91a-c623ca348ed3",
   "metadata": {},
   "outputs": [],
   "source": [
    "lens_file = 'DES_Y1A1_Lenses_z=0.3-0.45.fits'\n",
    "rand_file = 'DES_Y1A1_3x2pt_redMaGiC_RANDOMS.fits'\n",
    "im3_file = 'y1_im3_shapes_matched.fits'\n",
    "mcal_file = 'y1_mcal_shapes_matched.fits'\n",
    "z_file = 'mcal_BPZ_(binning).fits'"
   ]
  },
  {
   "cell_type": "code",
   "execution_count": 3,
   "id": "1a67317e-043e-4b37-84f7-d0617975435f",
   "metadata": {},
   "outputs": [],
   "source": [
    "npatches= 20\n",
    "sep_bins = 20\n",
    "theta_min = 2.5\n",
    "theta_max = 250.0\n",
    "slops = [0.1]"
   ]
  },
  {
   "cell_type": "code",
   "execution_count": null,
   "id": "de0bada2-39a8-46e6-8d56-f6786279664b",
   "metadata": {
    "tags": []
   },
   "outputs": [
    {
     "name": "stdout",
     "output_type": "stream",
     "text": [
      "Catalogues created, runtime=33.322954.\n",
      "Patch 0 located and sliced, calculating correlations...\n",
      "WARNING: Some patch numbers do not contain any objects!\n",
      "The following patch numbers have no objects: {0}\n",
      "This may be a problem depending on your use case.\n",
      "WARNING: Some patch numbers do not contain any objects!\n",
      "The following patch numbers have no objects: {0}\n",
      "This may be a problem depending on your use case.\n",
      "WARNING: Some patch numbers do not contain any objects!\n",
      "The following patch numbers have no objects: {0}\n",
      "This may be a problem depending on your use case.\n",
      "WARNING: Some patch numbers do not contain any objects!\n",
      "The following patch numbers have no objects: {0}\n",
      "This may be a problem depending on your use case.\n",
      "IA signal estimated, runtime=324.126965.\n",
      "Patch 1 located and sliced, calculating correlations...\n",
      "WARNING: Some patch numbers do not contain any objects!\n",
      "The following patch numbers have no objects: {1}\n",
      "This may be a problem depending on your use case.\n",
      "WARNING: Some patch numbers do not contain any objects!\n",
      "The following patch numbers have no objects: {1}\n",
      "This may be a problem depending on your use case.\n"
     ]
    }
   ],
   "source": [
    "start=time.time()\n",
    "\n",
    "with fits.open(data_dir+lens_file) as hdu:\n",
    "    data = hdu[1].data\n",
    "    ra_l = data['RA']\n",
    "    dec_l = data['DEC']\n",
    "    w_l = data['weight']\n",
    "del data\n",
    "\n",
    "cat_l = treecorr.Catalog(ra=ra_l, dec=dec_l, ra_units='deg', dec_units='deg', w=w_l, patch_centers=data_dir+'jackknife_patch_centers')\n",
    "\n",
    "del ra_l, dec_l, w_l\n",
    "\n",
    "with fits.open(data_dir+rand_file) as hdu:\n",
    "    data = hdu[1].data\n",
    "    indexes = list(locate(data['z'], lambda x: 0.3 < x < 0.45))\n",
    "    ra_r = data['RA'][indexes]\n",
    "    dec_r = data['DEC'][indexes]\n",
    "    rand_z = data['z'][indexes]\n",
    "del data\n",
    "\n",
    "cat_r = treecorr.Catalog(ra=ra_r, dec=dec_r, ra_units='deg', dec_units='deg', r=rand_z, patch_centers=data_dir+'jackknife_patch_centers')\n",
    "\n",
    "del indexes, ra_r, dec_r, rand_z\n",
    "\n",
    "with fits.open(data_dir+mcal_file) as hdu:\n",
    "    data = hdu[1].data\n",
    "    ra_s = data['ra']\n",
    "    dec_s = data['dec']\n",
    "    e1 = data['e1']\n",
    "    e2 = data['e2']\n",
    "    R11 = data['R11']\n",
    "del data\n",
    "\n",
    "cat_mcal = treecorr.Catalog(ra=ra_s, dec=dec_s, ra_units='deg', dec_units='deg', r=R11, g1=e1, g2=e2, patch_centers=data_dir+'jackknife_patch_centers')\n",
    "\n",
    "del ra_s, dec_s, e1, e2, R11\n",
    "\n",
    "with fits.open(data_dir+im3_file) as hdu:\n",
    "    data = hdu[1].data\n",
    "    im3_ID = data['coadd_objects_id']\n",
    "    ra_s = data['ra']\n",
    "    dec_s = data['dec']\n",
    "    e1 = data['e1'] - data['c1']\n",
    "    e2 = data['e2'] - data['c2']\n",
    "    sens = data['m'] + 1.0\n",
    "    w = data['weight']\n",
    "del data\n",
    "\n",
    "with fits.open(data_dir+z_file) as hdu:\n",
    "    data = hdu[1].data\n",
    "    zmc = data['z_mc']\n",
    "    zmc_ID = data['coadd_objects_id']\n",
    "del data\n",
    "\n",
    "matches, zmc_indices, shape_indices = np.intersect1d(zmc_ID, im3_ID, return_indices=True)\n",
    "\n",
    "zmc = zmc[zmc_indices]\n",
    "\n",
    "del zmc_ID, matches, zmc_indices, shape_indices, im3_ID\n",
    "\n",
    "cat_im3 = treecorr.Catalog(ra=ra_s, dec=dec_s, ra_units='deg', dec_units='deg', r=zmc, g1=e1, g2=e2, w=w, \n",
    "                           patch_centers=data_dir+'jackknife_patch_centers')\n",
    "cat_k = treecorr.Catalog(ra=ra_s, dec=dec_s, ra_units='deg', dec_units='deg', k=sens, w=w, patch_centers=data_dir+'jackknife_patch_centers')\n",
    "\n",
    "del ra_s, dec_s, e1, e2, sens, zmc, w\n",
    "\n",
    "end = time.time()\n",
    "diff=end-start\n",
    "\n",
    "print('Catalogues created, runtime=%f.'%diff)\n",
    "\n",
    "IA_final = np.zeros([len(slops),sep_bins])\n",
    "IA_sig = np.zeros_like(IA_final)\n",
    "\n",
    "log_shift = np.logspace(np.log10(0.025), np.log10(2.5), 20)\n",
    "    \n",
    "IA_jk, IA_sig = des.IA_jackknife(cat_l=cat_l, cat_r=cat_r, cat_mcal=cat_mcal, cat_im3=cat_im3, cat_k=cat_k, sep_bins=sep_bins, npatches=npatches, fbins=810,\n",
    "                                    theta_min=theta_min, theta_max=theta_max, bin_slop=slops[0])\n",
    "\n",
    "IA_final, theta = des.IA_full(cat_l=cat_l, cat_r=cat_r, cat_mcal=cat_mcal, cat_im3=cat_im3, cat_k=cat_k, sep_bins=sep_bins, fbins=810, \n",
    "                                  theta_min=theta_min, theta_max=theta_max, bin_slop=slops[0])                           \n",
    "\n",
    "\n",
    "plt.figure(figsize=[6,5])\n",
    "plt.errorbar(theta, IA_final, yerr=IA_sig, lw=0, marker='o', color='navy', markersize=5, elinewidth=1, capsize=3)    \n",
    "plt.yscale('log')\n",
    "plt.xscale('log')\n",
    "plt.ylim([1e-6, 1e-2])\n",
    "plt.xlim([2.5,250])\n",
    "plt.xlabel(r'$\\theta$ (arcmin)')\n",
    "plt.ylabel(r'$\\bar{\\gamma}_{IA}(\\theta)$')\n",
    "plt.title(r'$0.30<z_{l}<0.45$')    \n",
    "plt.legend(['Bin slop = 0.1'])\n",
    "plt.savefig('IA_patches_BinSlop=0.1.png', dpi=300)\n",
    "    \n",
    "print(IA_final, IA_sig) \n",
    "\n",
    "del cat_l, cat_r, cat_im3, cat_mcal, cat_k"
   ]
  }
 ],
 "metadata": {
  "kernelspec": {
   "display_name": "Python 3",
   "language": "python",
   "name": "python3"
  },
  "language_info": {
   "codemirror_mode": {
    "name": "ipython",
    "version": 3
   },
   "file_extension": ".py",
   "mimetype": "text/x-python",
   "name": "python",
   "nbconvert_exporter": "python",
   "pygments_lexer": "ipython3",
   "version": "3.8.0"
  }
 },
 "nbformat": 4,
 "nbformat_minor": 5
}
